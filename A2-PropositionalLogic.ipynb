{
 "cells": [
  {
   "cell_type": "markdown",
   "metadata": {},
   "source": [
    "## Assignment 2 - Propositional Logic"
   ]
  },
  {
   "cell_type": "markdown",
   "metadata": {},
   "source": [
    "### 1: Convert the following into logic notation using Python with SymPy. Use both standard notation and using function calls such as Or, And, Implies format as well.\n",
    "1. y or (x and y)\n",
    "2. a implies b\n",
    "3. (m or n) and (r or s)"
   ]
  },
  {
   "cell_type": "code",
   "execution_count": 1,
   "metadata": {},
   "outputs": [],
   "source": [
    "from sympy import *"
   ]
  },
  {
   "cell_type": "code",
   "execution_count": 37,
   "metadata": {},
   "outputs": [
    {
     "name": "stdout",
     "output_type": "stream",
     "text": [
      "y | (y & ~x)\n"
     ]
    }
   ],
   "source": [
    "# 1a. y or (not x and y) standard\n",
    "statement = y | (~x & y);\n",
    "print(statement);\n"
   ]
  },
  {
   "cell_type": "code",
   "execution_count": 32,
   "metadata": {},
   "outputs": [
    {
     "name": "stdout",
     "output_type": "stream",
     "text": [
      "y | (y & ~x)\n"
     ]
    }
   ],
   "source": [
    "# 1b. y or (not x and y) function calls\n",
    "x, y = symbols('x, y')\n",
    "statement = Or(y, And(Not(x), y));\n",
    "print(statement);"
   ]
  },
  {
   "cell_type": "code",
   "execution_count": 38,
   "metadata": {},
   "outputs": [
    {
     "name": "stdout",
     "output_type": "stream",
     "text": [
      "Implies(a, b)\n"
     ]
    }
   ],
   "source": [
    "# 2a. a implies b standard\n",
    "statement2 = a >> b;\n",
    "print(statement2);\n"
   ]
  },
  {
   "cell_type": "code",
   "execution_count": 33,
   "metadata": {},
   "outputs": [
    {
     "name": "stdout",
     "output_type": "stream",
     "text": [
      "Implies(a, b)\n"
     ]
    }
   ],
   "source": [
    "# 2b. a implies b function calls\n",
    "a, b = symbols('a, b');\n",
    "statement2 = Implies(a,b);\n",
    "print(statement2);"
   ]
  },
  {
   "cell_type": "code",
   "execution_count": 39,
   "metadata": {},
   "outputs": [
    {
     "name": "stdout",
     "output_type": "stream",
     "text": [
      "(m | ~n) & (r | ~r)\n"
     ]
    }
   ],
   "source": [
    "# 3a. (m or not n) and (r or not s) standard\n",
    "m, n, r = symbols('m, n, r');\n",
    "statement3 = (m | ~n) & (r | ~r);\n",
    "print(statement3);"
   ]
  },
  {
   "cell_type": "code",
   "execution_count": 36,
   "metadata": {},
   "outputs": [
    {
     "name": "stdout",
     "output_type": "stream",
     "text": [
      "(m | ~n) & (r | ~r)\n"
     ]
    }
   ],
   "source": [
    "# 3b. (m or not n) and (r or not s) function calls\n",
    "m, n, r = symbols('m, n, r');\n",
    "statement3 = And((Or(m, Not(n))), Or(r, Not(r)));\n",
    "print(statement3);"
   ]
  },
  {
   "cell_type": "markdown",
   "metadata": {},
   "source": [
    "### 2: Now create the code for the following and substitute the given true or false values. You can use either format, but keep in mind some of them may require function calls format.\n",
    "1. y or x. y = False, x = True\n",
    "2. (a implies b) or m. a = False, b = True, m = True\n",
    "3. (m or n) and (a or (b and c)). m = True, n = False, a = False, b = True, c = False"
   ]
  },
  {
   "cell_type": "code",
   "execution_count": 31,
   "metadata": {},
   "outputs": [
    {
     "name": "stdout",
     "output_type": "stream",
     "text": [
      "True\n"
     ]
    }
   ],
   "source": [
    "# 1. y | x\n",
    "\n",
    "condition_Check = False | True;\n",
    "print(condition_Check);\n",
    "\n"
   ]
  },
  {
   "cell_type": "code",
   "execution_count": 24,
   "metadata": {},
   "outputs": [
    {
     "name": "stdout",
     "output_type": "stream",
     "text": [
      "True\n"
     ]
    }
   ],
   "source": [
    "# 2. (a implies b) or m. a = False, b = True, m = True\n",
    "\n",
    "condition_Check = (False >> True) | True;\n",
    "if(condition_Check == True):\n",
    "    print(\"True\");\n",
    "else:\n",
    "    print(\"False\");\n",
    "\n",
    "# Substitute the given values a = False, b = True, and m = True into the expression\n"
   ]
  },
  {
   "cell_type": "code",
   "execution_count": 25,
   "metadata": {},
   "outputs": [
    {
     "name": "stdout",
     "output_type": "stream",
     "text": [
      "False\n"
     ]
    }
   ],
   "source": [
    "# 3. (m or n) and (a or (b and c)). m = True, n = False, a = False, b = True, c = False\n",
    "\n",
    "\n",
    "condition_Check = (True | False) & (False | ( True & False));\n",
    "print(condition_Check);\n",
    "\n",
    "# Substitute the given values m = True, n = False, a = False, b = True, and c = False into the expression\n"
   ]
  },
  {
   "cell_type": "code",
   "execution_count": null,
   "metadata": {},
   "outputs": [],
   "source": []
  },
  {
   "cell_type": "markdown",
   "metadata": {},
   "source": [
    "### 3: Create the truth tables for:\n",
    "1. Conjunction\n",
    "2. Disjunction\n",
    "3. Implication\n",
    "4. Exclusive Disjunction\n",
    "5. Truth Table for (y and z) or (not w and not x)\n",
    "\n",
    "There are many ways to do this. You can do it without SymPy, or use SymPy's truth table import and you are free to get as complex as you want. Use x and y variables.\n"
   ]
  },
  {
   "cell_type": "code",
   "execution_count": 61,
   "metadata": {},
   "outputs": [
    {
     "name": "stdout",
     "output_type": "stream",
     "text": [
      "|-------|-------|-----------|\n",
      "|   X   |   Y   |   X ^ Y   |\n",
      "|---------------------------|\n",
      "|   T   |   T   |     T     |\n",
      "|---------------------------|\n",
      "|   T   |   F   |     F     |\n",
      "|---------------------------|\n",
      "|   F   |   T   |     F     |\n",
      "|---------------------------|\n",
      "|   F   |   F   |     F     |\n",
      "|-------|-------|-----------|\n"
     ]
    }
   ],
   "source": [
    "#  Conjunction Truth Table\n",
    "print(\"|-------|-------|-----------|\");\n",
    "print(\"|   X   |   Y   |   X ^ Y   |\");\n",
    "print(\"|---------------------------|\");\n",
    "print(\"|   T   |   T   |     T     |\");\n",
    "print(\"|---------------------------|\");\n",
    "print(\"|   T   |   F   |     F     |\");\n",
    "print(\"|---------------------------|\");\n",
    "print(\"|   F   |   T   |     F     |\");\n",
    "print(\"|---------------------------|\");\n",
    "print(\"|   F   |   F   |     F     |\");\n",
    "print(\"|-------|-------|-----------|\");\n",
    "\n",
    "\n",
    "\n",
    "\n"
   ]
  },
  {
   "cell_type": "code",
   "execution_count": 62,
   "metadata": {},
   "outputs": [
    {
     "name": "stdout",
     "output_type": "stream",
     "text": [
      "|-------|-------|-----------|\n",
      "|   X   |   Y   |   X V Y   |\n",
      "|---------------------------|\n",
      "|   T   |   T   |     T     |\n",
      "|---------------------------|\n",
      "|   T   |   F   |     T     |\n",
      "|---------------------------|\n",
      "|   F   |   T   |     T     |\n",
      "|---------------------------|\n",
      "|   F   |   F   |     F     |\n",
      "|-------|-------|-----------|\n"
     ]
    }
   ],
   "source": [
    "# Disjunction Truth Table\n",
    "print(\"|-------|-------|-----------|\");\n",
    "print(\"|   X   |   Y   |   X V Y   |\");\n",
    "print(\"|---------------------------|\");\n",
    "print(\"|   T   |   T   |     T     |\");\n",
    "print(\"|---------------------------|\");\n",
    "print(\"|   T   |   F   |     T     |\");\n",
    "print(\"|---------------------------|\");\n",
    "print(\"|   F   |   T   |     T     |\");\n",
    "print(\"|---------------------------|\");\n",
    "print(\"|   F   |   F   |     F     |\");\n",
    "print(\"|-------|-------|-----------|\");"
   ]
  },
  {
   "cell_type": "code",
   "execution_count": 63,
   "metadata": {},
   "outputs": [
    {
     "name": "stdout",
     "output_type": "stream",
     "text": [
      "|-------|-------|-----------|\n",
      "|   X   |   Y   |   X -> Y  |\n",
      "|---------------------------|\n",
      "|   T   |   T   |     T     |\n",
      "|---------------------------|\n",
      "|   T   |   F   |     F     |\n",
      "|---------------------------|\n",
      "|   F   |   T   |     T     |\n",
      "|---------------------------|\n",
      "|   F   |   F   |     T     |\n",
      "|-------|-------|-----------|\n"
     ]
    }
   ],
   "source": [
    "# Implication Truth Table\n",
    "print(\"|-------|-------|-----------|\");\n",
    "print(\"|   X   |   Y   |   X -> Y  |\");\n",
    "print(\"|---------------------------|\");\n",
    "print(\"|   T   |   T   |     T     |\");\n",
    "print(\"|---------------------------|\");\n",
    "print(\"|   T   |   F   |     F     |\");\n",
    "print(\"|---------------------------|\");\n",
    "print(\"|   F   |   T   |     T     |\");\n",
    "print(\"|---------------------------|\");\n",
    "print(\"|   F   |   F   |     T     |\");\n",
    "print(\"|-------|-------|-----------|\");"
   ]
  },
  {
   "cell_type": "code",
   "execution_count": 64,
   "metadata": {},
   "outputs": [
    {
     "name": "stdout",
     "output_type": "stream",
     "text": [
      "|-------|-------|-----------|\n",
      "|   X   |   Y   |   X V Y   |\n",
      "|---------------------------|\n",
      "|   T   |   T   |     F     |\n",
      "|---------------------------|\n",
      "|   T   |   F   |     T     |\n",
      "|---------------------------|\n",
      "|   F   |   T   |     T     |\n",
      "|---------------------------|\n",
      "|   F   |   F   |     F     |\n",
      "|-------|-------|-----------|\n"
     ]
    }
   ],
   "source": [
    "# Exclusive Disjunction Truth Table\n",
    "print(\"|-------|-------|-----------|\");\n",
    "print(\"|   X   |   Y   |   X V Y   |\");\n",
    "print(\"|---------------------------|\");\n",
    "print(\"|   T   |   T   |     F     |\");\n",
    "print(\"|---------------------------|\");\n",
    "print(\"|   T   |   F   |     T     |\");\n",
    "print(\"|---------------------------|\");\n",
    "print(\"|   F   |   T   |     T     |\");\n",
    "print(\"|---------------------------|\");\n",
    "print(\"|   F   |   F   |     F     |\");\n",
    "print(\"|-------|-------|-----------|\");"
   ]
  },
  {
   "cell_type": "code",
   "execution_count": 5,
   "metadata": {},
   "outputs": [
    {
     "name": "stdout",
     "output_type": "stream",
     "text": [
      "|-------|-------|-------|-------|-------|-------|----------|-------------|-------------------|\n",
      "|   X   |   Y   |   Z   |   W   |   ~X  |   ~W  |   Y ^ Z  |   ~W ^ ~X   | (Y^Z) | (~W ^ ~X) |\n",
      "|--------------------------------------------------------------------------------------------|\n",
      "|   F   |   F   |   F   |   F   |   T   |   T   |    F     |     T       |        T          |\n",
      "|--------------------------------------------------------------------------------------------|\n",
      "|   F   |   F   |   F   |   T   |   T   |   F   |    F     |     F       |        F          |\n",
      "|--------------------------------------------------------------------------------------------|\n",
      "|   F   |   F   |   T   |   F   |   T   |   T   |    F     |     T       |        T          |\n",
      "|--------------------------------------------------------------------------------------------|\n",
      "|   F   |   F   |   T   |   T   |   T   |   F   |    F     |     F       |        F          |\n",
      "|--------------------------------------------------------------------------------------------|\n",
      "|   F   |   T   |   F   |   F   |   T   |   T   |    F     |     T       |        T          |\n",
      "|--------------------------------------------------------------------------------------------|\n",
      "|   F   |   T   |   F   |   T   |   T   |   F   |    F     |     F       |        F          |\n",
      "|--------------------------------------------------------------------------------------------|\n",
      "|   F   |   T   |   T   |   F   |   T   |   T   |    T     |     T       |        T          |\n",
      "|--------------------------------------------------------------------------------------------|\n",
      "|   F   |   T   |   T   |   T   |   T   |   F   |    T     |     F       |        T          |\n",
      "|--------------------------------------------------------------------------------------------|\n",
      "|   T   |   F   |   F   |   F   |   F   |   T   |    F     |     F       |        F          |\n",
      "|--------------------------------------------------------------------------------------------|\n",
      "|   T   |   F   |   F   |   T   |   F   |   F   |    F     |     F       |        F          |\n",
      "|--------------------------------------------------------------------------------------------|\n",
      "|   T   |   F   |   T   |   F   |   F   |   T   |    F     |     F       |        F          |\n",
      "|--------------------------------------------------------------------------------------------|\n",
      "|   T   |   F   |   T   |   T   |   F   |   F   |    F     |     F       |        F          |\n",
      "|--------------------------------------------------------------------------------------------|\n",
      "|   T   |   T   |   F   |   F   |   F   |   T   |    F     |     F       |        F          |\n",
      "|--------------------------------------------------------------------------------------------|\n",
      "|   T   |   T   |   F   |   T   |   F   |   F   |    F     |     F       |        F          |\n",
      "|--------------------------------------------------------------------------------------------|\n",
      "|   T   |   T   |   T   |   F   |   F   |   T   |    T     |     F       |        T          |\n",
      "|--------------------------------------------------------------------------------------------|\n",
      "|   T   |   T   |   T   |   T   |   F   |   F   |    T     |     F       |        T          |\n",
      "|--------------------------------------------------------------------------------------------|\n"
     ]
    }
   ],
   "source": [
    "# Truth Table for (y and z) or (not w and not x)\n",
    "print(\"|-------|-------|-------|-------|-------|-------|----------|-------------|-------------------|\");\n",
    "print(\"|   X   |   Y   |   Z   |   W   |   ~X  |   ~W  |   Y ^ Z  |   ~W ^ ~X   | (Y^Z) | (~W ^ ~X) |\");\n",
    "print(\"|--------------------------------------------------------------------------------------------|\");\n",
    "print(\"|   F   |   F   |   F   |   F   |   T   |   T   |    F     |     T       |        T          |\");\n",
    "print(\"|--------------------------------------------------------------------------------------------|\");\n",
    "print(\"|   F   |   F   |   F   |   T   |   T   |   F   |    F     |     F       |        F          |\");\n",
    "print(\"|--------------------------------------------------------------------------------------------|\");\n",
    "print(\"|   F   |   F   |   T   |   F   |   T   |   T   |    F     |     T       |        T          |\");\n",
    "print(\"|--------------------------------------------------------------------------------------------|\");\n",
    "print(\"|   F   |   F   |   T   |   T   |   T   |   F   |    F     |     F       |        F          |\");\n",
    "print(\"|--------------------------------------------------------------------------------------------|\");\n",
    "print(\"|   F   |   T   |   F   |   F   |   T   |   T   |    F     |     T       |        T          |\");\n",
    "print(\"|--------------------------------------------------------------------------------------------|\");\n",
    "print(\"|   F   |   T   |   F   |   T   |   T   |   F   |    F     |     F       |        F          |\");\n",
    "print(\"|--------------------------------------------------------------------------------------------|\");\n",
    "print(\"|   F   |   T   |   T   |   F   |   T   |   T   |    T     |     T       |        T          |\");\n",
    "print(\"|--------------------------------------------------------------------------------------------|\");\n",
    "print(\"|   F   |   T   |   T   |   T   |   T   |   F   |    T     |     F       |        T          |\");\n",
    "print(\"|--------------------------------------------------------------------------------------------|\");\n",
    "print(\"|   T   |   F   |   F   |   F   |   F   |   T   |    F     |     F       |        F          |\");\n",
    "print(\"|--------------------------------------------------------------------------------------------|\");\n",
    "print(\"|   T   |   F   |   F   |   T   |   F   |   F   |    F     |     F       |        F          |\");\n",
    "print(\"|--------------------------------------------------------------------------------------------|\");\n",
    "print(\"|   T   |   F   |   T   |   F   |   F   |   T   |    F     |     F       |        F          |\");\n",
    "print(\"|--------------------------------------------------------------------------------------------|\");\n",
    "print(\"|   T   |   F   |   T   |   T   |   F   |   F   |    F     |     F       |        F          |\");\n",
    "print(\"|--------------------------------------------------------------------------------------------|\");\n",
    "print(\"|   T   |   T   |   F   |   F   |   F   |   T   |    F     |     F       |        F          |\");\n",
    "print(\"|--------------------------------------------------------------------------------------------|\");\n",
    "print(\"|   T   |   T   |   F   |   T   |   F   |   F   |    F     |     F       |        F          |\");\n",
    "print(\"|--------------------------------------------------------------------------------------------|\");\n",
    "print(\"|   T   |   T   |   T   |   F   |   F   |   T   |    T     |     F       |        T          |\");\n",
    "print(\"|--------------------------------------------------------------------------------------------|\");\n",
    "print(\"|   T   |   T   |   T   |   T   |   F   |   F   |    T     |     F       |        T          |\");\n",
    "print(\"|--------------------------------------------------------------------------------------------|\");"
   ]
  },
  {
   "cell_type": "markdown",
   "metadata": {},
   "source": [
    "### 4: Let p and q be the propositions as seen below:    \n",
    "p: You drive over 65 miles per hour.    \n",
    "q: You get a speeding ticket.     \n",
    "Write these propositions using p and q and logical connectives (including negations)\n",
    "1. You do not drive over 65 miles per hour.\n",
    "2. You will get a speeding ticket if you drive over 65 miles per hour.\n",
    "3. If you do not drive over 65 miles per hour, then you will not get a speeding ticket.\n",
    "4. You get a speeding ticket, but you do not drive over 65 miles per hour."
   ]
  },
  {
   "cell_type": "code",
   "execution_count": 54,
   "metadata": {},
   "outputs": [
    {
     "name": "stdout",
     "output_type": "stream",
     "text": [
      "~p\n"
     ]
    }
   ],
   "source": [
    "# 1 You do not drive over 65 miles per hour.\n",
    "p, q = symbols('p, q');\n",
    "statement = ~p;\n",
    "print(statement);\n",
    "\n"
   ]
  },
  {
   "cell_type": "code",
   "execution_count": 53,
   "metadata": {},
   "outputs": [
    {
     "name": "stdout",
     "output_type": "stream",
     "text": [
      "Implies(q, p)\n"
     ]
    }
   ],
   "source": [
    "# 2 You will get a speeding ticket if you drive over 65 miles per hour.\n",
    "p, q = symbols('p, q'); # will, if are implication where behind if is hypo\n",
    "statement = q >> p;\n",
    "print(statement);"
   ]
  },
  {
   "cell_type": "code",
   "execution_count": 52,
   "metadata": {},
   "outputs": [
    {
     "name": "stdout",
     "output_type": "stream",
     "text": [
      "Implies(~p, ~q)\n"
     ]
    }
   ],
   "source": [
    "# 3 If you do not drive over 65 miles per hour, then you will not get a speeding ticket.\n",
    "p, q = symbols('p, q'); # if...then is implication\n",
    "statement = ~p >> ~q;\n",
    "print(statement);"
   ]
  },
  {
   "cell_type": "code",
   "execution_count": 55,
   "metadata": {},
   "outputs": [
    {
     "name": "stdout",
     "output_type": "stream",
     "text": [
      "q ^ ~p\n"
     ]
    }
   ],
   "source": [
    "# 4 You get a speeding ticket, but you do not drive over 65 miles per hour.\n",
    "p, q = symbols('p, q');            #but is conjunction\n",
    "statement = q ^ ~p;\n",
    "print(statement);"
   ]
  }
 ],
 "metadata": {
  "kernelspec": {
   "display_name": ".venv",
   "language": "python",
   "name": "python3"
  },
  "language_info": {
   "codemirror_mode": {
    "name": "ipython",
    "version": 3
   },
   "file_extension": ".py",
   "mimetype": "text/x-python",
   "name": "python",
   "nbconvert_exporter": "python",
   "pygments_lexer": "ipython3",
   "version": "3.10.2"
  },
  "orig_nbformat": 4
 },
 "nbformat": 4,
 "nbformat_minor": 2
}
