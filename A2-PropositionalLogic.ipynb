{
 "cells": [
  {
   "cell_type": "markdown",
   "metadata": {},
   "source": [
    "## Assignment 2 - Propositional Logic"
   ]
  },
  {
   "cell_type": "markdown",
   "metadata": {},
   "source": [
    "### 1: Convert the following into logic notation using Python with SymPy. Use both standard notation and using function calls such as Or, And, Implies format as well.\n",
    "1. y or (x and y)\n",
    "2. a implies b\n",
    "3. (m or n) and (r or s)"
   ]
  },
  {
   "cell_type": "code",
   "execution_count": 2,
   "metadata": {},
   "outputs": [],
   "source": [
    "from sympy import *"
   ]
  },
  {
   "cell_type": "code",
   "execution_count": 9,
   "metadata": {},
   "outputs": [
    {
     "data": {
      "text/latex": [
       "$\\displaystyle y \\vee \\left(y \\wedge \\neg x\\right)$"
      ],
      "text/plain": [
       "y | (y & ~x)"
      ]
     },
     "execution_count": 9,
     "metadata": {},
     "output_type": "execute_result"
    }
   ],
   "source": [
    "# 1a. y or (not x and y) standard\n",
    "# set x and y as symbols\n",
    "x, y = symbols('x, y')\n",
    "\n",
    "# create variable \"statement\" to store result of expression of y or (not x and y) with notation\n",
    "statement = y | (~x & y)  \n",
    "\n",
    "# Display result of statement\n",
    "statement\n"
   ]
  },
  {
   "cell_type": "code",
   "execution_count": 5,
   "metadata": {},
   "outputs": [
    {
     "data": {
      "text/latex": [
       "$\\displaystyle y \\vee \\left(y \\wedge \\neg x\\right)$"
      ],
      "text/plain": [
       "y | (y & ~x)"
      ]
     },
     "execution_count": 5,
     "metadata": {},
     "output_type": "execute_result"
    }
   ],
   "source": [
    "# 1b. y or (not x and y) function calls\n",
    "# set x and y as symbols\n",
    "x, y = symbols('x, y')\n",
    "\n",
    "# create variable \"statement\" to store result of expression of y or (not x and y) with Function Call\n",
    "statement = Or(y, And(Not(x), y))\n",
    "\n",
    "# Display result of statement\n",
    "statement"
   ]
  },
  {
   "cell_type": "code",
   "execution_count": 23,
   "metadata": {},
   "outputs": [
    {
     "data": {
      "text/latex": [
       "$\\displaystyle a \\Rightarrow b$"
      ],
      "text/plain": [
       "Implies(a, b)"
      ]
     },
     "execution_count": 23,
     "metadata": {},
     "output_type": "execute_result"
    }
   ],
   "source": [
    "# 2a. a implies b standard\n",
    "# set a and b as symbols\n",
    "a, b = symbols('a, b')\n",
    "\n",
    "# create variable \"statement\" to store result of expression of a implies b with notation\n",
    "statement = a >> b\n",
    "\n",
    "# Display result of statement\n",
    "statement\n"
   ]
  },
  {
   "cell_type": "code",
   "execution_count": 24,
   "metadata": {},
   "outputs": [
    {
     "data": {
      "text/latex": [
       "$\\displaystyle a \\Rightarrow b$"
      ],
      "text/plain": [
       "Implies(a, b)"
      ]
     },
     "execution_count": 24,
     "metadata": {},
     "output_type": "execute_result"
    }
   ],
   "source": [
    "# 2b. a implies b function calls\n",
    "# set a and b as symbols\n",
    "a, b = symbols('a, b')\n",
    "\n",
    "# create variable \"statement\" to store result of expression of a implies b with function call\n",
    "statement = Implies(a,b)\n",
    "\n",
    "# Display result of statement\n",
    "statement"
   ]
  },
  {
   "cell_type": "code",
   "execution_count": 25,
   "metadata": {},
   "outputs": [
    {
     "data": {
      "text/latex": [
       "$\\displaystyle \\left(m \\vee \\neg n\\right) \\wedge \\left(r \\vee \\neg r\\right)$"
      ],
      "text/plain": [
       "(m | ~n) & (r | ~r)"
      ]
     },
     "execution_count": 25,
     "metadata": {},
     "output_type": "execute_result"
    }
   ],
   "source": [
    "# 3a. (m or not n) and (r or not s) standard\n",
    "# set m, n and r as symbols\n",
    "m, n, r = symbols('m, n, r')\n",
    "\n",
    "# create variable \"statement\" to store result of expression of (m or not n) and (r or not s) with notation\n",
    "statement = (m | ~n) & (r | ~r)\n",
    "\n",
    "# Display result of statement\n",
    "statement"
   ]
  },
  {
   "cell_type": "code",
   "execution_count": 26,
   "metadata": {},
   "outputs": [
    {
     "data": {
      "text/latex": [
       "$\\displaystyle \\left(m \\vee \\neg n\\right) \\wedge \\left(r \\vee \\neg r\\right)$"
      ],
      "text/plain": [
       "(m | ~n) & (r | ~r)"
      ]
     },
     "execution_count": 26,
     "metadata": {},
     "output_type": "execute_result"
    }
   ],
   "source": [
    "# 3b. (m or not n) and (r or not s) function calls\n",
    "# set m, n and r as symbols\n",
    "m, n, r = symbols('m, n, r')\n",
    "\n",
    "# create variable \"statement\" to store result of expression of (m or not n) and (r or not s) with function call\n",
    "statement = And((Or(m, Not(n))), Or(r, Not(r)))\n",
    "\n",
    "# Display result of statement\n",
    "statement"
   ]
  },
  {
   "cell_type": "markdown",
   "metadata": {},
   "source": [
    "### 2: Now create the code for the following and substitute the given true or false values. You can use either format, but keep in mind some of them may require function calls format.\n",
    "1. y or x. y = False, x = True\n",
    "2. (a implies b) or m. a = False, b = True, m = True\n",
    "3. (m or n) and (a or (b and c)). m = True, n = False, a = False, b = True, c = False"
   ]
  },
  {
   "cell_type": "code",
   "execution_count": 32,
   "metadata": {},
   "outputs": [
    {
     "data": {
      "text/latex": [
       "$\\displaystyle \\text{True}$"
      ],
      "text/plain": [
       "True"
      ]
     },
     "execution_count": 32,
     "metadata": {},
     "output_type": "execute_result"
    }
   ],
   "source": [
    "# 1. y | x\n",
    "#Set x, y as symbol\n",
    "x, y = symbols('x, y')\n",
    "\n",
    "# create variable condition to store expression\n",
    "# This is expression represent Y or X\n",
    "condition_ = Or(y, x)\n",
    "\n",
    "#Substitue specific values for 'x' and 'y' with True for X and False for y\n",
    "result = condition_.subs({y: False, x:True})\n",
    "\n",
    "#Display result\n",
    "result\n"
   ]
  },
  {
   "cell_type": "code",
   "execution_count": 20,
   "metadata": {},
   "outputs": [
    {
     "data": {
      "text/latex": [
       "$\\displaystyle \\text{True}$"
      ],
      "text/plain": [
       "True"
      ]
     },
     "execution_count": 20,
     "metadata": {},
     "output_type": "execute_result"
    }
   ],
   "source": [
    "# 2. (a implies b) or m. a = False, b = True, m = True\n",
    "\n",
    "#Set a, b, m as symbol\n",
    "a, b, m = symbols('a, b, m')\n",
    "\n",
    "# create variable condition to store expression\n",
    "# This is expression represent a implies b or m\n",
    "condition_ = Or(Implies(a, b), m)\n",
    "\n",
    "#Substitue specific values for 'a', 'b' and 'm' with True for b and m, and False for a\n",
    "result = condition_.subs({a: False, b:True, m: True})\n",
    "\n",
    "#Display result\n",
    "result\n",
    "\n",
    "\n",
    "\n",
    "# Substitute the given values a = False, b = True, and m = True into the expression\n"
   ]
  },
  {
   "cell_type": "code",
   "execution_count": 21,
   "metadata": {},
   "outputs": [
    {
     "data": {
      "text/latex": [
       "$\\displaystyle \\text{False}$"
      ],
      "text/plain": [
       "False"
      ]
     },
     "execution_count": 21,
     "metadata": {},
     "output_type": "execute_result"
    }
   ],
   "source": [
    "# 3. (m or n) and (a or (b and c)). m = True, n = False, a = False, b = True, c = False\n",
    "#Set a, b, c, and m, n as symbol\n",
    "a, b, c, m, n = symbols('a, b, c, m, n')\n",
    "\n",
    "# create variable condition to store expression\n",
    "# This is expression represent (m or n) and ( a or ( b and c))\n",
    "condition_ = (m | n) & (a | ( b & c))\n",
    "\n",
    "#Substitue specific values for 'a', 'b', 'c' and 'm', 'n' with True for b and m, and False for a, c and n\n",
    "result = condition_.subs({a: False, b:True, m: True, c: False, n: False})\n",
    "\n",
    "#Display result\n",
    "result\n",
    "\n",
    "# Substitute the given values m = True, n = False, a = False, b = True, and c = False into the expression\n"
   ]
  },
  {
   "cell_type": "code",
   "execution_count": null,
   "metadata": {},
   "outputs": [],
   "source": []
  },
  {
   "cell_type": "markdown",
   "metadata": {},
   "source": [
    "### 3: Create the truth tables for:\n",
    "1. Conjunction\n",
    "2. Disjunction\n",
    "3. Implication\n",
    "4. Exclusive Disjunction\n",
    "5. Truth Table for (y and z) or (not w and not x)\n",
    "\n",
    "There are many ways to do this. You can do it without SymPy, or use SymPy's truth table import and you are free to get as complex as you want. Use x and y variables.\n"
   ]
  },
  {
   "cell_type": "code",
   "execution_count": 61,
   "metadata": {},
   "outputs": [
    {
     "name": "stdout",
     "output_type": "stream",
     "text": [
      "|-------|-------|-----------|\n",
      "|   X   |   Y   |   X ^ Y   |\n",
      "|---------------------------|\n",
      "|   T   |   T   |     T     |\n",
      "|---------------------------|\n",
      "|   T   |   F   |     F     |\n",
      "|---------------------------|\n",
      "|   F   |   T   |     F     |\n",
      "|---------------------------|\n",
      "|   F   |   F   |     F     |\n",
      "|-------|-------|-----------|\n"
     ]
    }
   ],
   "source": [
    "#  Conjunction Truth Table\n",
    "print(\"|-------|-------|-----------|\")\n",
    "print(\"|   X   |   Y   |   X ^ Y   |\")\n",
    "print(\"|---------------------------|\")\n",
    "print(\"|   T   |   T   |     T     |\")\n",
    "print(\"|---------------------------|\")\n",
    "print(\"|   T   |   F   |     F     |\")\n",
    "print(\"|---------------------------|\")\n",
    "print(\"|   F   |   T   |     F     |\")\n",
    "print(\"|---------------------------|\")\n",
    "print(\"|   F   |   F   |     F     |\")\n",
    "print(\"|-------|-------|-----------|\")\n",
    "\n",
    "\n",
    "\n",
    "\n"
   ]
  },
  {
   "cell_type": "code",
   "execution_count": 62,
   "metadata": {},
   "outputs": [
    {
     "name": "stdout",
     "output_type": "stream",
     "text": [
      "|-------|-------|-----------|\n",
      "|   X   |   Y   |   X V Y   |\n",
      "|---------------------------|\n",
      "|   T   |   T   |     T     |\n",
      "|---------------------------|\n",
      "|   T   |   F   |     T     |\n",
      "|---------------------------|\n",
      "|   F   |   T   |     T     |\n",
      "|---------------------------|\n",
      "|   F   |   F   |     F     |\n",
      "|-------|-------|-----------|\n"
     ]
    }
   ],
   "source": [
    "# Disjunction Truth Table\n",
    "print(\"|-------|-------|-----------|\")\n",
    "print(\"|   X   |   Y   |   X V Y   |\")\n",
    "print(\"|---------------------------|\")\n",
    "print(\"|   T   |   T   |     T     |\")\n",
    "print(\"|---------------------------|\")\n",
    "print(\"|   T   |   F   |     T     |\")\n",
    "print(\"|---------------------------|\")\n",
    "print(\"|   F   |   T   |     T     |\")\n",
    "print(\"|---------------------------|\")\n",
    "print(\"|   F   |   F   |     F     |\")\n",
    "print(\"|-------|-------|-----------|\")"
   ]
  },
  {
   "cell_type": "code",
   "execution_count": 63,
   "metadata": {},
   "outputs": [
    {
     "name": "stdout",
     "output_type": "stream",
     "text": [
      "|-------|-------|-----------|\n",
      "|   X   |   Y   |   X -> Y  |\n",
      "|---------------------------|\n",
      "|   T   |   T   |     T     |\n",
      "|---------------------------|\n",
      "|   T   |   F   |     F     |\n",
      "|---------------------------|\n",
      "|   F   |   T   |     T     |\n",
      "|---------------------------|\n",
      "|   F   |   F   |     T     |\n",
      "|-------|-------|-----------|\n"
     ]
    }
   ],
   "source": [
    "# Implication Truth Table\n",
    "print(\"|-------|-------|-----------|\")\n",
    "print(\"|   X   |   Y   |   X -> Y  |\")\n",
    "print(\"|---------------------------|\")\n",
    "print(\"|   T   |   T   |     T     |\")\n",
    "print(\"|---------------------------|\")\n",
    "print(\"|   T   |   F   |     F     |\")\n",
    "print(\"|---------------------------|\")\n",
    "print(\"|   F   |   T   |     T     |\")\n",
    "print(\"|---------------------------|\")\n",
    "print(\"|   F   |   F   |     T     |\")\n",
    "print(\"|-------|-------|-----------|\")"
   ]
  },
  {
   "cell_type": "code",
   "execution_count": 64,
   "metadata": {},
   "outputs": [
    {
     "name": "stdout",
     "output_type": "stream",
     "text": [
      "|-------|-------|-----------|\n",
      "|   X   |   Y   |   X V Y   |\n",
      "|---------------------------|\n",
      "|   T   |   T   |     F     |\n",
      "|---------------------------|\n",
      "|   T   |   F   |     T     |\n",
      "|---------------------------|\n",
      "|   F   |   T   |     T     |\n",
      "|---------------------------|\n",
      "|   F   |   F   |     F     |\n",
      "|-------|-------|-----------|\n"
     ]
    }
   ],
   "source": [
    "# Exclusive Disjunction Truth Table\n",
    "print(\"|-------|-------|-----------|\")\n",
    "print(\"|   X   |   Y   |   X V Y   |\")\n",
    "print(\"|---------------------------|\")\n",
    "print(\"|   T   |   T   |     F     |\")\n",
    "print(\"|---------------------------|\")\n",
    "print(\"|   T   |   F   |     T     |\")\n",
    "print(\"|---------------------------|\")\n",
    "print(\"|   F   |   T   |     T     |\")\n",
    "print(\"|---------------------------|\")\n",
    "print(\"|   F   |   F   |     F     |\")\n",
    "print(\"|-------|-------|-----------|\")"
   ]
  },
  {
   "cell_type": "code",
   "execution_count": 5,
   "metadata": {},
   "outputs": [
    {
     "name": "stdout",
     "output_type": "stream",
     "text": [
      "|-------|-------|-------|-------|-------|-------|----------|-------------|-------------------|\n",
      "|   X   |   Y   |   Z   |   W   |   ~X  |   ~W  |   Y ^ Z  |   ~W ^ ~X   | (Y^Z) | (~W ^ ~X) |\n",
      "|--------------------------------------------------------------------------------------------|\n",
      "|   F   |   F   |   F   |   F   |   T   |   T   |    F     |     T       |        T          |\n",
      "|--------------------------------------------------------------------------------------------|\n",
      "|   F   |   F   |   F   |   T   |   T   |   F   |    F     |     F       |        F          |\n",
      "|--------------------------------------------------------------------------------------------|\n",
      "|   F   |   F   |   T   |   F   |   T   |   T   |    F     |     T       |        T          |\n",
      "|--------------------------------------------------------------------------------------------|\n",
      "|   F   |   F   |   T   |   T   |   T   |   F   |    F     |     F       |        F          |\n",
      "|--------------------------------------------------------------------------------------------|\n",
      "|   F   |   T   |   F   |   F   |   T   |   T   |    F     |     T       |        T          |\n",
      "|--------------------------------------------------------------------------------------------|\n",
      "|   F   |   T   |   F   |   T   |   T   |   F   |    F     |     F       |        F          |\n",
      "|--------------------------------------------------------------------------------------------|\n",
      "|   F   |   T   |   T   |   F   |   T   |   T   |    T     |     T       |        T          |\n",
      "|--------------------------------------------------------------------------------------------|\n",
      "|   F   |   T   |   T   |   T   |   T   |   F   |    T     |     F       |        T          |\n",
      "|--------------------------------------------------------------------------------------------|\n",
      "|   T   |   F   |   F   |   F   |   F   |   T   |    F     |     F       |        F          |\n",
      "|--------------------------------------------------------------------------------------------|\n",
      "|   T   |   F   |   F   |   T   |   F   |   F   |    F     |     F       |        F          |\n",
      "|--------------------------------------------------------------------------------------------|\n",
      "|   T   |   F   |   T   |   F   |   F   |   T   |    F     |     F       |        F          |\n",
      "|--------------------------------------------------------------------------------------------|\n",
      "|   T   |   F   |   T   |   T   |   F   |   F   |    F     |     F       |        F          |\n",
      "|--------------------------------------------------------------------------------------------|\n",
      "|   T   |   T   |   F   |   F   |   F   |   T   |    F     |     F       |        F          |\n",
      "|--------------------------------------------------------------------------------------------|\n",
      "|   T   |   T   |   F   |   T   |   F   |   F   |    F     |     F       |        F          |\n",
      "|--------------------------------------------------------------------------------------------|\n",
      "|   T   |   T   |   T   |   F   |   F   |   T   |    T     |     F       |        T          |\n",
      "|--------------------------------------------------------------------------------------------|\n",
      "|   T   |   T   |   T   |   T   |   F   |   F   |    T     |     F       |        T          |\n",
      "|--------------------------------------------------------------------------------------------|\n"
     ]
    }
   ],
   "source": [
    "# Truth Table for (y and z) or (not w and not x)\n",
    "print(\"|-------|-------|-------|-------|-------|-------|----------|-------------|-------------------|\")\n",
    "print(\"|   X   |   Y   |   Z   |   W   |   ~X  |   ~W  |   Y ^ Z  |   ~W ^ ~X   | (Y^Z) | (~W ^ ~X) |\")\n",
    "print(\"|--------------------------------------------------------------------------------------------|\")\n",
    "print(\"|   F   |   F   |   F   |   F   |   T   |   T   |    F     |     T       |        T          |\")\n",
    "print(\"|--------------------------------------------------------------------------------------------|\")\n",
    "print(\"|   F   |   F   |   F   |   T   |   T   |   F   |    F     |     F       |        F          |\")\n",
    "print(\"|--------------------------------------------------------------------------------------------|\")\n",
    "print(\"|   F   |   F   |   T   |   F   |   T   |   T   |    F     |     T       |        T          |\")\n",
    "print(\"|--------------------------------------------------------------------------------------------|\")\n",
    "print(\"|   F   |   F   |   T   |   T   |   T   |   F   |    F     |     F       |        F          |\")\n",
    "print(\"|--------------------------------------------------------------------------------------------|\")\n",
    "print(\"|   F   |   T   |   F   |   F   |   T   |   T   |    F     |     T       |        T          |\")\n",
    "print(\"|--------------------------------------------------------------------------------------------|\")\n",
    "print(\"|   F   |   T   |   F   |   T   |   T   |   F   |    F     |     F       |        F          |\")\n",
    "print(\"|--------------------------------------------------------------------------------------------|\")\n",
    "print(\"|   F   |   T   |   T   |   F   |   T   |   T   |    T     |     T       |        T          |\")\n",
    "print(\"|--------------------------------------------------------------------------------------------|\")\n",
    "print(\"|   F   |   T   |   T   |   T   |   T   |   F   |    T     |     F       |        T          |\")\n",
    "print(\"|--------------------------------------------------------------------------------------------|\")\n",
    "print(\"|   T   |   F   |   F   |   F   |   F   |   T   |    F     |     F       |        F          |\")\n",
    "print(\"|--------------------------------------------------------------------------------------------|\")\n",
    "print(\"|   T   |   F   |   F   |   T   |   F   |   F   |    F     |     F       |        F          |\")\n",
    "print(\"|--------------------------------------------------------------------------------------------|\")\n",
    "print(\"|   T   |   F   |   T   |   F   |   F   |   T   |    F     |     F       |        F          |\")\n",
    "print(\"|--------------------------------------------------------------------------------------------|\")\n",
    "print(\"|   T   |   F   |   T   |   T   |   F   |   F   |    F     |     F       |        F          |\")\n",
    "print(\"|--------------------------------------------------------------------------------------------|\")\n",
    "print(\"|   T   |   T   |   F   |   F   |   F   |   T   |    F     |     F       |        F          |\")\n",
    "print(\"|--------------------------------------------------------------------------------------------|\")\n",
    "print(\"|   T   |   T   |   F   |   T   |   F   |   F   |    F     |     F       |        F          |\")\n",
    "print(\"|--------------------------------------------------------------------------------------------|\")\n",
    "print(\"|   T   |   T   |   T   |   F   |   F   |   T   |    T     |     F       |        T          |\")\n",
    "print(\"|--------------------------------------------------------------------------------------------|\")\n",
    "print(\"|   T   |   T   |   T   |   T   |   F   |   F   |    T     |     F       |        T          |\")\n",
    "print(\"|--------------------------------------------------------------------------------------------|\")"
   ]
  },
  {
   "cell_type": "markdown",
   "metadata": {},
   "source": [
    "### 4: Let p and q be the propositions as seen below:    \n",
    "p: You drive over 65 miles per hour.    \n",
    "q: You get a speeding ticket.     \n",
    "Write these propositions using p and q and logical connectives (including negations)\n",
    "1. You do not drive over 65 miles per hour.\n",
    "2. You will get a speeding ticket if you drive over 65 miles per hour.\n",
    "3. If you do not drive over 65 miles per hour, then you will not get a speeding ticket.\n",
    "4. You get a speeding ticket, but you do not drive over 65 miles per hour."
   ]
  },
  {
   "cell_type": "code",
   "execution_count": 27,
   "metadata": {},
   "outputs": [
    {
     "data": {
      "text/latex": [
       "$\\displaystyle \\neg p$"
      ],
      "text/plain": [
       "~p"
      ]
     },
     "execution_count": 27,
     "metadata": {},
     "output_type": "execute_result"
    }
   ],
   "source": [
    "# 1 You do not drive over 65 miles per hour.\n",
    "# set p, q as symbol\n",
    "p, q = symbols('p, q')\n",
    "\n",
    "#create variable statment to store result of expression ~p\n",
    "statement = ~p\n",
    "\n",
    "# Display result of statement\n",
    "statement\n",
    "\n"
   ]
  },
  {
   "cell_type": "code",
   "execution_count": 28,
   "metadata": {},
   "outputs": [
    {
     "data": {
      "text/latex": [
       "$\\displaystyle q \\Rightarrow p$"
      ],
      "text/plain": [
       "Implies(q, p)"
      ]
     },
     "execution_count": 28,
     "metadata": {},
     "output_type": "execute_result"
    }
   ],
   "source": [
    "# 2 You will get a speeding ticket if you drive over 65 miles per hour.\n",
    "# set p, q as symbol\n",
    "# will, if are implication where behind if is hypo so it should be Implies(q, p)\n",
    "p, q = symbols('p, q') \n",
    "\n",
    "#create variable statment to store result of expression q >> p\n",
    "statement = q >> p\n",
    "\n",
    "# Display result of statement\n",
    "statement"
   ]
  },
  {
   "cell_type": "code",
   "execution_count": 31,
   "metadata": {},
   "outputs": [
    {
     "data": {
      "text/latex": [
       "$\\displaystyle \\neg p \\Rightarrow \\neg q$"
      ],
      "text/plain": [
       "Implies(~p, ~q)"
      ]
     },
     "execution_count": 31,
     "metadata": {},
     "output_type": "execute_result"
    }
   ],
   "source": [
    "# 3 If you do not drive over 65 miles per hour, then you will not get a speeding ticket.\n",
    "# set p, q as symbol\n",
    "# if...then is implication\n",
    "p, q = symbols('p, q') \n",
    "\n",
    "#create variable statment to store result of expression ~p >> ~q\n",
    "statement = ~p >> ~q\n",
    "\n",
    "# Display result of statement\n",
    "statement"
   ]
  },
  {
   "cell_type": "code",
   "execution_count": 30,
   "metadata": {},
   "outputs": [
    {
     "data": {
      "text/latex": [
       "$\\displaystyle q \\veebar \\neg p$"
      ],
      "text/plain": [
       "q ^ ~p"
      ]
     },
     "execution_count": 30,
     "metadata": {},
     "output_type": "execute_result"
    }
   ],
   "source": [
    "# 4 You get a speeding ticket, but you do not drive over 65 miles per hour.\n",
    "# set p, q as symbol\n",
    "#but is conjunction\n",
    "p, q = symbols('p, q')   \n",
    "\n",
    "#create variable statment to store result of expression q >> ~p\n",
    "statement = q ^ ~p\n",
    "\n",
    "# Display result of statement\n",
    "statement"
   ]
  }
 ],
 "metadata": {
  "kernelspec": {
   "display_name": ".venv",
   "language": "python",
   "name": "python3"
  },
  "language_info": {
   "codemirror_mode": {
    "name": "ipython",
    "version": 3
   },
   "file_extension": ".py",
   "mimetype": "text/x-python",
   "name": "python",
   "nbconvert_exporter": "python",
   "pygments_lexer": "ipython3",
   "version": "3.10.2"
  },
  "orig_nbformat": 4
 },
 "nbformat": 4,
 "nbformat_minor": 2
}
