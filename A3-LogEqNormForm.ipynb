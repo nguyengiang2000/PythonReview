{
 "cells": [
  {
   "cell_type": "markdown",
   "metadata": {},
   "source": [
    "## Assignment 3 - Logical Equivalences & Normal Forms"
   ]
  },
  {
   "cell_type": "markdown",
   "metadata": {},
   "source": [
    "### 1 Tautologies and Contradictions  \n",
    "Create 3 Tautologies and 3 Contradictions of your choice and print the truth tables for them.\n"
   ]
  },
  {
   "cell_type": "code",
   "execution_count": 75,
   "metadata": {},
   "outputs": [],
   "source": [
    "from sympy import *\n",
    "from sympy.logic.boolalg import truth_table \n",
    "from sympy import SOPform\n",
    "from sympy import POSform\n",
    "from sympy.logic.boolalg import is_cnf\n",
    "from sympy.logic.boolalg import is_dnf\n",
    "from sympy.logic.boolalg import to_cnf\n",
    "from sympy.logic.boolalg import to_dnf\n",
    "from sympy.logic.inference import satisfiable\n",
    "\n",
    "\n",
    "\n"
   ]
  },
  {
   "cell_type": "code",
   "execution_count": 14,
   "metadata": {},
   "outputs": [
    {
     "name": "stdout",
     "output_type": "stream",
     "text": [
      "Truth Table 1: \n",
      "Implies(q, p | q)\n",
      "[0, 0] -> True\n",
      "[0, 1] -> True\n",
      "[1, 0] -> True\n",
      "[1, 1] -> True\n",
      " \n",
      "Truth Table 2: \n",
      "(x | ~x) & (y | ~y)\n",
      "[0, 0] -> True\n",
      "[0, 1] -> True\n",
      "[1, 0] -> True\n",
      "[1, 1] -> True\n",
      " \n",
      "Truth Table 3: \n",
      "a | b | ~a | ~b\n",
      "[0, 0] -> True\n",
      "[0, 1] -> True\n",
      "[1, 0] -> True\n",
      "[1, 1] -> True\n"
     ]
    }
   ],
   "source": [
    "# Tautologies\n",
    "\n",
    "# expression_1 (q -> (p V q)), this is first example of Tautologies\n",
    "# define symbol\n",
    "p, q = symbols('p, q')\n",
    "# define expression\n",
    "expression_1 = Implies(q, Or(p, q))\n",
    "\n",
    "# expression_2 (x V -x) ^ (y V -y), this is second example of Tautologies\n",
    "# define symbol\n",
    "x, y = symbols('x, y')\n",
    "# define expression\n",
    "expression_2 = And(Or(x, Not(x)), Or(y, Not(y)))\n",
    "\n",
    "# expression_3 (a v b) V (-a v -b), this is third example of Tautologies\n",
    "# define symbol\n",
    "a, b = symbols('a, b')\n",
    "# define expression\n",
    "expression_3 = Or(Or(a, b),Or(Not(a),Not(b)))\n",
    "\n",
    "print(\"Truth Table 1: \")\n",
    "# table_1 represent truth table of expression 1\n",
    "# call function truth_table(expression, variables)\n",
    "table_1 = truth_table(expression_1, [p,q])\n",
    "print(expression_1)\n",
    "for t in table_1:\n",
    "    # 0 represent 'False', 1 represent 'True'\n",
    "    print('{0} -> {1}'.format(*t))\n",
    "\n",
    "print(\" \")\n",
    "print(\"Truth Table 2: \")\n",
    "# table_2 represent truth table of expression 2\n",
    "# call function truth_table(expression, variables)\n",
    "table_2 = truth_table(expression_2, [x,y])\n",
    "print(expression_2)\n",
    "for t in table_2:\n",
    "    # 0 represent 'False', 1 represent 'True'\n",
    "    print('{0} -> {1}'.format(*t))\n",
    "\n",
    "print(\" \")\n",
    "print(\"Truth Table 3: \")\n",
    "# table_3 represent truth table of expression 3\n",
    "# call function truth_table(expression, variables)\n",
    "table_3 = truth_table(expression_3, [a,b]) \n",
    "print(expression_3)\n",
    "for t in table_3:\n",
    "    # 0 represent 'False', 1 represent 'True'\n",
    "    print('{0} -> {1}'.format(*t)) \n",
    "\n",
    "\n",
    "\n",
    "\n"
   ]
  },
  {
   "cell_type": "code",
   "execution_count": 9,
   "metadata": {},
   "outputs": [
    {
     "name": "stdout",
     "output_type": "stream",
     "text": [
      "Truth Table 1: \n",
      "p & ~p\n",
      "[0] -> False\n",
      "[1] -> False\n",
      " \n",
      "Truth Table 2: \n",
      "p & q & ~p & ~q\n",
      "[0, 0] -> False\n",
      "[0, 1] -> False\n",
      "[1, 0] -> False\n",
      "[1, 1] -> False\n",
      " \n",
      "Truth Table 3: \n",
      "p & q & ~q\n",
      "[0, 0] -> False\n",
      "[0, 1] -> False\n",
      "[1, 0] -> False\n",
      "[1, 1] -> False\n"
     ]
    }
   ],
   "source": [
    "# Contradictions\n",
    "\n",
    "# expression_1 p ^ ~p , this is first example of Contradictions\n",
    "# define symbol\n",
    "p = symbols('p')\n",
    "# define expression\n",
    "expression_1 = And(p,Not(p))\n",
    "\n",
    "print(\"Truth Table 1: \")\n",
    "# table_1 represent truth table of expression 1\n",
    "# call function truth_table(expression, variables)\n",
    "table_1 = truth_table(expression_1, [p])\n",
    "print(expression_1)\n",
    "for t in table_1:\n",
    "    # 0 represent 'False', 1 represent 'True'\n",
    "    print('{0} -> {1}'.format(*t))\n",
    "\n",
    "# expression_2 (p ^ q) ^ (~p ^ ~q) , this is second example of Contradictions\n",
    "# define symbol\n",
    "p, q = symbols('p, q')\n",
    "# define expression\n",
    "expression_2 = And(And(p, q),And(Not(p),Not(q)))\n",
    "print(\" \")\n",
    "print(\"Truth Table 2: \")\n",
    "# table_2 represent truth table of expression 2\n",
    "# call function truth_table(expression, variables)\n",
    "table_2 = truth_table(expression_2, [p,q])\n",
    "print(expression_2)\n",
    "for t in table_2:\n",
    "    # 0 represent 'False', 1 represent 'True'\n",
    "    print('{0} -> {1}'.format(*t))\n",
    "\n",
    "# expression_3 (p ^ ~q) ^ (q ^ ~q) , this is third example of Contradictions\n",
    "# define symbol\n",
    "p, q = symbols('p, q')\n",
    "# define expression\n",
    "expression_3 = And(And(p,Not(q)),And(q,Not(q)))\n",
    "print(\" \")\n",
    "print(\"Truth Table 3: \")\n",
    "# table_3 represent truth table of expression 3\n",
    "# call function truth_table(expression, variables)\n",
    "table_3 = truth_table(expression_3, [p,q])\n",
    "print(expression_3)\n",
    "for t in table_3:\n",
    "    # 0 represent 'False', 1 represent 'True'\n",
    "    print('{0} -> {1}'.format(*t))\n",
    "\n",
    "\n"
   ]
  },
  {
   "cell_type": "markdown",
   "metadata": {},
   "source": [
    "### 2: Logical Equivalences     \n",
    "Create a function that will test for logical equivalence when it is passed two expressions. Then test the following examples that align with the Logical Equivalence Rules:\n",
    "1. Idempotent Laws\n",
    "2. Double Negation Law\n",
    "3. Negation Laws\n",
    "4. Commutative Laws\n",
    "5. Associative Laws\n",
    "6. Distributive Laws\n",
    "7. Absorption Laws\n",
    "8. Conditional Disjunction Equivalence\n",
    "8. DeMorgans Laws\n",
    "\n",
    "My solution required using the Function Calls method of defining expressions."
   ]
  },
  {
   "cell_type": "code",
   "execution_count": 101,
   "metadata": {},
   "outputs": [],
   "source": [
    "# Function that will test for logical equivalence\n",
    "from sympy.logic.boolalg import simplify_logic, Equivalent\n",
    "from sympy import *\n",
    "\n",
    "def test_logical_equivalence(expression1, expression2):\n",
    "    # write code to test for logical equivalence here\n",
    "    #simplify expression 1\n",
    "    simpl_expression1 = simplify_logic(expression1)\n",
    "\n",
    "    #simplify expression 2\n",
    "    simpl_expression2 = simplify_logic(expression2)\n",
    "\n",
    "    \n",
    "\n",
    "    # store Equvialent method result into result variable\n",
    "    result = Equivalent(simpl_expression1, simpl_expression2)\n",
    "    \n",
    "    #return result\n",
    "    return result\n",
    "       \n",
    "    "
   ]
  },
  {
   "cell_type": "code",
   "execution_count": 104,
   "metadata": {},
   "outputs": [
    {
     "name": "stdout",
     "output_type": "stream",
     "text": [
      "Example 1 - Idempotent Laws: \n",
      "True\n",
      "\n",
      "Example 2 - Double Negation Law: \n",
      "True\n",
      "\n",
      "Example 3 - Negation Laws: \n",
      "True\n",
      "\n",
      "Example 4 - Commutative Laws: \n",
      "True\n",
      "\n",
      "Example 5 - Associative Laws: \n",
      "True\n",
      "\n",
      "Example 6 - Distributive Laws: \n",
      "True\n",
      "\n",
      "Example 7 - Absorption Laws: \n",
      "True\n",
      "\n",
      "Example 8 - Conditional Disjunction Equivalence: \n",
      "True\n",
      "\n",
      "Example 9 - De Morgan's Laws:\n",
      "\n",
      "Example 9 - De Morgan's Laws 1: \n",
      "\n",
      "Example 9 - De Morgan's Laws 2: \n",
      "Law 1: True\n",
      "Law 2: True\n"
     ]
    }
   ],
   "source": [
    "# Step 1: Define the symbols 'a', 'b', and 'c'\n",
    "a, b, c = symbols('a b c')\n",
    "\n",
    "# Example 1: Idempotent Laws\n",
    "###### define expr1 and expr2 here\n",
    "expr1_idem = And(a, a)\n",
    "expr2_idem = a\n",
    "print(\"Example 1 - Idempotent Laws: \"), \n",
    "print(test_logical_equivalence(expr1_idem, expr2_idem))\n",
    "\n",
    "# Example 2: Double Negation Law\n",
    "###### define expr1 and expr2 here\n",
    "expr1_doub = Not(Not(a))\n",
    "expr2_doub = a\n",
    "print(\"\\nExample 2 - Double Negation Law: \")\n",
    "print(test_logical_equivalence(expr1_doub, expr2_doub))\n",
    "\n",
    "# Example 3: Negation Laws\n",
    "###### define expr1 and expr2 here\n",
    "expr1_nega = Or(a, Not(a))\n",
    "expr2_nega = True\n",
    "print(\"\\nExample 3 - Negation Laws: \")\n",
    "print(test_logical_equivalence(expr1_nega, expr2_nega))\n",
    "\n",
    "# Example 4: Commutative Laws\n",
    "###### define expr1 and expr2 here\n",
    "expr1_comm = Or(a, b)\n",
    "expr2_comm = Or(b, a)\n",
    "print(\"\\nExample 4 - Commutative Laws: \")\n",
    "print(test_logical_equivalence(expr1_comm, expr2_comm))\n",
    "\n",
    "# Example 5: Associative Laws\n",
    "###### define expr1 and expr2 here\n",
    "expr1_asso = And(And(a, b),c)\n",
    "expr2_asso = And(a, And(b, c))\n",
    "print(\"\\nExample 5 - Associative Laws: \")\n",
    "print(test_logical_equivalence(expr1_asso, expr2_asso))\n",
    "\n",
    "# Example 6: Distributive Laws\n",
    "###### define expr1 and expr2 here\n",
    "expr1_dis = Or(a, And(b,c))\n",
    "expr2_dis = And(Or(a,b),Or(a,c))\n",
    "print(\"\\nExample 6 - Distributive Laws: \")\n",
    "print(test_logical_equivalence(expr1_dis, expr2_dis))\n",
    "\n",
    "# Example 7: Absorption Laws\n",
    "###### define expr1 and expr2 here\n",
    "expr1_abs = Or(a,And(a,b))\n",
    "expr2_abs = a\n",
    "print(\"\\nExample 7 - Absorption Laws: \")\n",
    "print(test_logical_equivalence(expr1_abs, expr2_abs))\n",
    "\n",
    "# Example 8: Conditional Disjunction Equivalence\n",
    "###### define expr1 and expr2 here\n",
    "expr1_Cond = Implies(a, b)\n",
    "expr2_Cond = Or(Not(a),b)\n",
    "print(\"\\nExample 8 - Conditional Disjunction Equivalence: \")\n",
    "print(test_logical_equivalence(expr1_Cond, expr2_Cond))\n",
    "\n",
    "# Example 9: De Morgan's Laws\n",
    "###### define expr1 and expr2 here\n",
    "expr1_mor = Not(And(a, b))\n",
    "expr2_mor = Or(Not(a),Not(b))\n",
    "expr3_mor = Not(Or(a,b))\n",
    "expr4_mor = And(Not(a),Not(b))\n",
    "print(\"\\nExample 9 - De Morgan's Laws:\")\n",
    "print(\"\\nExample 9 - De Morgan's Laws 1: \")\n",
    "print(\"\\nExample 9 - De Morgan's Laws 2: \")\n",
    "print(\"Law 1: \" + str(test_logical_equivalence(expr1_mor, expr2_mor)))\n",
    "print(\"Law 2: \" + str(test_logical_equivalence(expr3_mor, expr4_mor)))\n"
   ]
  },
  {
   "cell_type": "markdown",
   "metadata": {},
   "source": [
    "### 3: Sum of Products (Minterms) and Product of Sums (Maxterms)    \n",
    "For this exercise, you will be given the line numbers of the minterms and maxterms. Use SymPy to determine what the SOP Form is and what the POS form is.\n",
    "1. Minterms: 0, 1, 2, 3, 6, 7, 8, 9, 10, 11, 14, 15\n",
    "2. Minterms: 0, 1, 2, 3, 5, 6, 7, 8, 9, 10, 11, 12, 13, 14, 15\n",
    "3. Minterms: 0, 1, 2, 3, 8, 9, 10, 11\n",
    "4. Maxterms: 0, 1, 2, 5, 7, 10, 13, 15\n",
    "5. Maxterms: 0, 2, 3, 6, 8, 9, 12, 15"
   ]
  },
  {
   "cell_type": "code",
   "execution_count": 3,
   "metadata": {},
   "outputs": [
    {
     "data": {
      "text/latex": [
       "$\\displaystyle z \\vee \\neg y$"
      ],
      "text/plain": [
       "z | ~y"
      ]
     },
     "execution_count": 3,
     "metadata": {},
     "output_type": "execute_result"
    }
   ],
   "source": [
    "# 1: Minterms: 0, 1, 2, 3, 6, 7, 8, 9, 10, 11, 14, 15\n",
    "x, y, z, w = symbols('x, y, z, w')\n",
    "# define min/max terms with variable\n",
    "minterms = [0, 1, 2, 3, 6, 7, 8, 9, 10, 11, 14, 15]\n",
    "# call SOPfrom for minterm - Sum of Product\n",
    "SOPform([x, y, z, w], minterms)\n",
    "\n"
   ]
  },
  {
   "cell_type": "code",
   "execution_count": 4,
   "metadata": {},
   "outputs": [
    {
     "data": {
      "text/latex": [
       "$\\displaystyle w \\vee x \\vee z \\vee \\neg y$"
      ],
      "text/plain": [
       "w | x | z | ~y"
      ]
     },
     "execution_count": 4,
     "metadata": {},
     "output_type": "execute_result"
    }
   ],
   "source": [
    "# 2. Minterms: 0, 1, 2, 3, 5, 6, 7, 8, 9, 10, 11, 12, 13, 14, 15\n",
    "# define symbols\n",
    "x, y, z, w = symbols('x, y, z, w')\n",
    "# define min/max terms with variable\n",
    "minterms = [ 0, 1, 2, 3, 5, 6, 7, 8, 9, 10, 11, 12, 13, 14, 15]\n",
    "# call SOPfrom for minterm - Sum of Product\n",
    "SOPform([x, y, z, w], minterms)\n",
    "\n",
    "\n"
   ]
  },
  {
   "cell_type": "code",
   "execution_count": 5,
   "metadata": {},
   "outputs": [
    {
     "data": {
      "text/latex": [
       "$\\displaystyle \\neg y$"
      ],
      "text/plain": [
       "~y"
      ]
     },
     "execution_count": 5,
     "metadata": {},
     "output_type": "execute_result"
    }
   ],
   "source": [
    "# 3. Minterms: 0, 1, 2, 3, 8, 9, 10, 11\n",
    "# define symbols\n",
    "x, y, z, w = symbols('x, y, z, w')\n",
    "# define min/max terms with variable\n",
    "minterms = [0, 1, 2, 3, 8, 9, 10, 11]\n",
    "# call SOPfrom for minterm - Sum of Product\n",
    "SOPform([x, y, z, w], minterms)\n",
    "\n",
    "\n",
    "\n"
   ]
  },
  {
   "cell_type": "code",
   "execution_count": 12,
   "metadata": {},
   "outputs": [
    {
     "data": {
      "text/latex": [
       "$\\displaystyle \\left(w \\vee \\neg y\\right) \\wedge \\left(y \\vee z \\vee \\neg x\\right) \\wedge \\left(y \\vee \\neg w \\vee \\neg z\\right)$"
      ],
      "text/plain": [
       "(w | ~y) & (y | z | ~x) & (y | ~w | ~z)"
      ]
     },
     "execution_count": 12,
     "metadata": {},
     "output_type": "execute_result"
    }
   ],
   "source": [
    "# 4. Maxterms: 0, 1, 2, 5, 7, 10, 13, 15\n",
    "# define symbols\n",
    "x, y, z, w = symbols('x, y, z, w')\n",
    "# define min/max terms with variable\n",
    "maxterms = [0, 1, 2, 5, 7, 10, 13, 15]\n",
    "# call POPfrom for maxterm - Product of Sum\n",
    "POSform([x, y, z, w], maxterms)\n",
    "\n",
    "\n"
   ]
  },
  {
   "cell_type": "code",
   "execution_count": 11,
   "metadata": {},
   "outputs": [
    {
     "data": {
      "text/latex": [
       "$\\displaystyle \\left(w \\vee \\neg x \\vee \\neg z\\right) \\wedge \\left(x \\vee z \\vee \\neg w\\right) \\wedge \\left(x \\vee z \\vee \\neg y\\right) \\wedge \\left(x \\vee \\neg w \\vee \\neg y\\right) \\wedge \\left(y \\vee \\neg x \\vee \\neg z\\right) \\wedge \\left(z \\vee \\neg w \\vee \\neg y\\right)$"
      ],
      "text/plain": [
       "(x | z | ~w) & (x | z | ~y) & (w | ~x | ~z) & (x | ~w | ~y) & (y | ~x | ~z) & (z | ~w | ~y)"
      ]
     },
     "execution_count": 11,
     "metadata": {},
     "output_type": "execute_result"
    }
   ],
   "source": [
    "# 5. Maxterms: 0, 2, 3, 6, 8, 9, 12, 15\n",
    "# define symbols\n",
    "x, y, z, w = symbols('x, y, z, w')\n",
    "# define min/max terms with variable\n",
    "maxterms = [0, 2, 3, 6, 8, 9, 12, 15]\n",
    "# call POPfrom for maxterm - Product of Sum\n",
    "POSform([x, y, z, w], maxterms)\n"
   ]
  },
  {
   "cell_type": "markdown",
   "metadata": {},
   "source": [
    "### 4: Conjective Normal Form and Disjunctive Normal Form     \n",
    "Write a script that will test is expressions are in CNF and DNF form. If it is in either, print that its already in that correct form. If it is not, convert it to the appropriate form and print out the result. Show the original expression each time. The following are the expressions:\n",
    "1. (a and b) or (b and c)\n",
    "2. (p or q) and (not p or q or r)\n",
    "3. (x and y) or (not y and z)\n"
   ]
  },
  {
   "cell_type": "code",
   "execution_count": 54,
   "metadata": {},
   "outputs": [
    {
     "name": "stdout",
     "output_type": "stream",
     "text": [
      "Original Expression:\n",
      "(a & b) | (b & c)\n",
      "Converted to CNF: \n",
      "b & (a | b) & (a | c) & (b | c)\n",
      "The expression is already in DNF.\n"
     ]
    }
   ],
   "source": [
    "# 1: (a and b) or (b and c)\n",
    "# define symbol\n",
    "a, b, c = symbols('a, b, c')\n",
    "# define expr\n",
    "expr = Or(And(a, b),And(b, c))\n",
    "# store original expr\n",
    "original = Or(And(a, b),And(b, c))\n",
    "print(\"Original Expression:\")\n",
    "print(original)\n",
    "# if expr already in CNF the print already if not convert it and print it out\n",
    "if is_cnf(expr) == true:\n",
    "    print(\"The expression is already in CNF.\")\n",
    "else:\n",
    "    print(\"Converted to CNF: \")\n",
    "    cnf = to_cnf(expr)\n",
    "    print(cnf)\n",
    "\n",
    "# if expr already in DNF the print already if not convert it and print it out\n",
    "if is_dnf(expr) == true:\n",
    "    print(\"The expression is already in DNF.\")\n",
    "else:\n",
    "    dnf = to_dnf(expr)\n",
    "    print(\"Converted to DNF: \")\n",
    "    print(dnf)\n",
    "    \n",
    "    \n",
    "\n",
    "\n",
    "\n",
    "\n",
    "\n",
    "\n",
    "\n"
   ]
  },
  {
   "cell_type": "code",
   "execution_count": 57,
   "metadata": {},
   "outputs": [
    {
     "name": "stdout",
     "output_type": "stream",
     "text": [
      "Original Expression:\n",
      "(p | q) & (p | r | ~q)\n",
      "The expression is already in CNF.\n",
      "Converted to DNF: \n",
      "p | (p & q) | (p & r) | (q & r) | (p & ~q) | (q & ~q)\n"
     ]
    }
   ],
   "source": [
    "# 2: (p or q) and (not p or q or r)\n",
    "# define symbol\n",
    "q, p, r = symbols('p, q, r')\n",
    "# define expr\n",
    "expr =  And(Or(p, q),Or(Not(p),q, r))\n",
    "# store original expr\n",
    "original = And(Or(p, q),Or(Not(p),q, r))\n",
    "print(\"Original Expression:\")\n",
    "print(original)\n",
    "# if expr already in CNF the print already if not convert it and print it out\n",
    "if is_cnf(expr) == true:\n",
    "    print(\"The expression is already in CNF.\")\n",
    "else:\n",
    "    print(\"Converted to CNF: \")\n",
    "    cnf = to_cnf(expr)\n",
    "    print(cnf)\n",
    "\n",
    "# if expr already in DNF the print already if not convert it and print it out\n",
    "if is_dnf(expr) == true:\n",
    "    print(\"The expression is already in DNF.\")\n",
    "else:\n",
    "    print(\"Converted to DNF: \")\n",
    "    dnf = to_dnf(expr)\n",
    "    print(dnf)"
   ]
  },
  {
   "cell_type": "code",
   "execution_count": 55,
   "metadata": {},
   "outputs": [
    {
     "name": "stdout",
     "output_type": "stream",
     "text": [
      "Original Expression:\n",
      "(x & y) | (z & ~y)\n",
      "Converted to CNF: \n",
      "(x | z) & (y | z) & (x | ~y) & (y | ~y)\n",
      "The expression is already in DNF.\n"
     ]
    }
   ],
   "source": [
    "# 3: (x and y) or (not y and z)\n",
    "# define symbol\n",
    "x, y, z = symbols('x, y , z')\n",
    "# define expr\n",
    "expr = Or(And(x, y),And(Not(y), z))\n",
    "# store original expr\n",
    "original = Or(And(x, y),And(Not(y), z))\n",
    "print(\"Original Expression:\")\n",
    "print(original)\n",
    "# if expr already in CNF the print already if not convert it and print it out\n",
    "if is_cnf(expr) == true:\n",
    "    print(\"The expression is already in CNF.\")\n",
    "else:\n",
    "    print(\"Converted to CNF: \")\n",
    "    cnf = to_cnf(expr)\n",
    "    print(cnf)\n",
    "\n",
    "# if expr already in DNF the print already if not convert it and print it out\n",
    "if is_dnf(expr) == true:\n",
    "    print(\"The expression is already in DNF.\")\n",
    "else:\n",
    "    dnf = to_dnf(expr)\n",
    "    print(\"Converted to DNF: \")\n",
    "    print(dnf)"
   ]
  },
  {
   "cell_type": "markdown",
   "metadata": {},
   "source": [
    "### 5: Satisfiability\n",
    "Use SymPy to test for satisfiability on these expressions and print out whether they are satisfiable or not. If it is satisfiable, show what the True and False values have to be to make it satisfiable.\n",
    "1. (a and b) or (not a and b) or (c and not b)\n",
    "2. (p or q) and (not p or q or r)\n",
    "3. (x and y) or (not y and z)"
   ]
  },
  {
   "cell_type": "code",
   "execution_count": 92,
   "metadata": {},
   "outputs": [
    {
     "name": "stdout",
     "output_type": "stream",
     "text": [
      "Satifiable!\n",
      "{b: True, c: True, a: False}\n"
     ]
    }
   ],
   "source": [
    "# 1 (a and b) or (not a and b) or (c and not b)\n",
    "# define symbol\n",
    "a, b, c = symbols('a, b , c')\n",
    "# define expression\n",
    "expr = (a & b) | (~a & b) | (c & ~b)\n",
    "# if satifiable == false then not satifiable , if it's satisfiable, print out what true and false\n",
    "if satisfiable(expr) == false:\n",
    "    print(\"Not Satifiable!\")\n",
    "else:\n",
    "    print(\"Satifiable!\")\n",
    "    print(is_satisfy)\n",
    "\n",
    "\n"
   ]
  },
  {
   "cell_type": "code",
   "execution_count": 93,
   "metadata": {},
   "outputs": [
    {
     "name": "stdout",
     "output_type": "stream",
     "text": [
      "Satifiable!\n",
      "{b: True, c: True, a: False}\n"
     ]
    }
   ],
   "source": [
    "# 2: (p or q) and (not p or q or r)\n",
    "p, q, r = symbols('p, q , r')\n",
    "# define expression\n",
    "expr = (p | q) & (~p | q | r)\n",
    "# if satifiable == false then not satifiable , if it's satisfiable, print out what true and false\n",
    "if satisfiable(expr) == false:\n",
    "    print(\"Not Satifiable!\")\n",
    "else:\n",
    "    print(\"Satifiable!\")\n",
    "    print(is_satisfy)\n",
    "\n"
   ]
  },
  {
   "cell_type": "code",
   "execution_count": 100,
   "metadata": {},
   "outputs": [
    {
     "name": "stdout",
     "output_type": "stream",
     "text": [
      "Satifiable!\n",
      "{b: True, c: True, a: False}\n"
     ]
    }
   ],
   "source": [
    "# 3: (x and y) or (not y and z)\n",
    "x, y, z = symbols('x, y , z')\n",
    "# define expression\n",
    "expr = (x & y) | (~y & z)\n",
    "# if satifiable == false then not satifiable , if it's satisfiable, print out what true and false\n",
    "if satisfiable(expr) == false:\n",
    "    print(\"Not Satifiable!\")\n",
    "else:\n",
    "    print(\"Satifiable!\")\n",
    "    print(is_satisfy)\n"
   ]
  }
 ],
 "metadata": {
  "kernelspec": {
   "display_name": ".venv",
   "language": "python",
   "name": "python3"
  },
  "language_info": {
   "codemirror_mode": {
    "name": "ipython",
    "version": 3
   },
   "file_extension": ".py",
   "mimetype": "text/x-python",
   "name": "python",
   "nbconvert_exporter": "python",
   "pygments_lexer": "ipython3",
   "version": "3.10.2"
  },
  "orig_nbformat": 4
 },
 "nbformat": 4,
 "nbformat_minor": 2
}
