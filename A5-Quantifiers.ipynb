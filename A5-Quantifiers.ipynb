{
 "cells": [
  {
   "cell_type": "markdown",
   "metadata": {},
   "source": [
    "## Assignment 5 - Quantifiers"
   ]
  },
  {
   "cell_type": "markdown",
   "metadata": {},
   "source": [
    "### 1 Universal and Existential Quantifiers"
   ]
  },
  {
   "cell_type": "markdown",
   "metadata": {},
   "source": [
    "Demonstrate Universal Quantifiers and Existential Quantifiers using Python code. Create functions:    \n",
    "1. Predicate 1: tests if a number is even\n",
    "2. Predicate 2: tests if a number is positive\n",
    "3. Predicate 3: tests if a number is negative\n",
    "\n",
    "Create two domains: \n",
    "1. Domain 1: list of numbers from 1 to 11 exclusive\n",
    "2. Domain 2: list of the numbers 2, 4, 6, 8\n",
    "\n",
    "Test the following quanifiers:\n",
    "1. Test if all the integers in domain 1 are even\n",
    "2. Test if all the integers in domain 2 are even\n",
    "3. Test if any the integers in domain 1 are positive\n",
    "4. Test if any of the integers in domain 1 are negative\n",
    "\n",
    "When printing your results, be clear what Predicate is being used as well as what is being tested. Print out True or False after that. Output code is given for you to use."
   ]
  },
  {
   "cell_type": "code",
   "execution_count": 32,
   "metadata": {},
   "outputs": [
    {
     "name": "stdout",
     "output_type": "stream",
     "text": [
      "Check if all elements in domain 1 is even\n",
      "  P(x): x in domain 1 is even\n",
      "Predicates: ∀x(P(X)) \n",
      "False\n",
      "Check if all elements in domain 2 is even\n",
      "  P(x): x in domain 2 is even\n",
      "Predicates: ∀x(P(X)) \n",
      "True\n",
      "Check if there is at least one element in domain 1 is positive\n",
      "  P(x): x in domain 1 is positive\n",
      "Predicates: ∃x(P(X)) \n",
      "True\n",
      "Check if there is at least one element in domain 2 is positive\n",
      "  P(x): x in domain 2 is positive\n",
      "Predicates: ∃x(P(X)) \n",
      "True\n",
      "Check if there is at least one element in domain 1 is negative\n",
      "  P(x): x in domain 1 is negative\n",
      "Predicates: ∃x(P(X)) \n",
      "False\n",
      "Check if there is at least one element in domain 2 is negative\n",
      "  P(x): x in domain 2 is negative\n",
      "Predicates: ∃x(P(X)) \n",
      "False\n"
     ]
    }
   ],
   "source": [
    "# Demonstrate Univ Quant and Exist Quant\n",
    "\n",
    "def is_even(x):\n",
    "    \"\"\"Predicate 1: Checks if x is even.\"\"\"\n",
    "    # x % 2 must be 0 for a number to be even\n",
    "    if(x % 2 == 0):\n",
    "        return True\n",
    "    \n",
    "    else:\n",
    "        return False\n",
    "    \n",
    "\n",
    "def is_positive(x):\n",
    "    \"\"\"Predicate 2: Checks if x is positive.\"\"\"\n",
    "    # x must be > 0 to be positive number\n",
    "    if(x > 0):\n",
    "        return True\n",
    "    else:\n",
    "        return False\n",
    "    \n",
    "\n",
    "def is_negative(x):\n",
    "    \"\"\"Predicate 4: Checks if x is negative.\"\"\"\n",
    "    # x must be < 0 to be negative number\n",
    "    if(x < 0):\n",
    "        return True\n",
    "    else:\n",
    "        return False\n",
    "\n",
    "#domain 1 is exclusive mean not including the last index 11\n",
    "domain_1 = [1, 2, 3, 4, 5, 6, 7, 8, 9, 10]\n",
    "domain_2 = [2, 4, 6, 8]\n",
    "\n",
    "def demonstrate_quantifiers():\n",
    "    \"\"\"Demonstrates both existential and universal quantifiers using Python and SymPy.\"\"\"\n",
    "    # Check if the predicate is true for all elements in the domain\n",
    "    def universal_quantifier(predicate, domain):\n",
    "        result = all(predicate(x) for x in domain)\n",
    "        print(result)\n",
    "\n",
    "    # Check if the predicate is true if any element or at least one in the domain\n",
    "    def existential_quantifier(predicate, domain):\n",
    "        result = any(predicate(x) for x in domain)\n",
    "        print(result)\n",
    "\n",
    "    # Universal Quantifier (∀x): For all x, x is even (domain 1)\n",
    "    print(\"Check if all elements in domain 1 is even\")\n",
    "    print(\"  P(x): x in domain 1 is even\")\n",
    "    print(\"Predicates: ∀x(P(X)) \")\n",
    "    universal_quantifier(is_even, domain_1)\n",
    "    \n",
    "\n",
    "    # Universal Quantifier (∀x): For all x, x is even (domain 2)\n",
    "    print(\"Check if all elements in domain 2 is even\")\n",
    "    print(\"  P(x): x in domain 2 is even\")\n",
    "    print(\"Predicates: ∀x(P(X)) \")\n",
    "    universal_quantifier(is_even, domain_2)\n",
    "\n",
    "    # Existential Quantifier (∃x): There exists an x such that x is positive\n",
    "    print(\"Check if there is at least one element in domain 1 is positive\")\n",
    "    print(\"  P(x): x in domain 1 is positive\")\n",
    "    print(\"Predicates: ∃x(P(X)) \")\n",
    "    existential_quantifier(is_positive, domain_1)   \n",
    "    print(\"Check if there is at least one element in domain 2 is positive\") \n",
    "    print(\"  P(x): x in domain 2 is positive\")\n",
    "    print(\"Predicates: ∃x(P(X)) \")\n",
    "    existential_quantifier(is_positive, domain_2)\n",
    "\n",
    "\n",
    "    # Existential Quantifier (∃x): There exists an x such that x is negative\n",
    "    print(\"Check if there is at least one element in domain 1 is negative\")\n",
    "    print(\"  P(x): x in domain 1 is negative\")\n",
    "    print(\"Predicates: ∃x(P(X)) \")\n",
    "    existential_quantifier(is_negative, domain_1)\n",
    "    print(\"Check if there is at least one element in domain 2 is negative\")\n",
    "    print(\"  P(x): x in domain 2 is negative\")\n",
    "    print(\"Predicates: ∃x(P(X)) \")\n",
    "    existential_quantifier(is_negative, domain_2)\n",
    "\n",
    "demonstrate_quantifiers()\n",
    "\n"
   ]
  },
  {
   "cell_type": "markdown",
   "metadata": {},
   "source": [
    "### 2 Uniqueness Quantifier"
   ]
  },
  {
   "cell_type": "markdown",
   "metadata": {},
   "source": [
    "Create a function to test if a number is a prime. Now create a domain with integers from 1 to 10 inclusive. Now determine if there is a unique prime number in the set of integers between 1 to 10. Print out the Predicate and the Uniqueness being checked for along with the True or False."
   ]
  },
  {
   "cell_type": "code",
   "execution_count": 18,
   "metadata": {},
   "outputs": [
    {
     "ename": "AttributeError",
     "evalue": "'bool' object has no attribute 'count'",
     "output_type": "error",
     "traceback": [
      "\u001b[1;31m---------------------------------------------------------------------------\u001b[0m",
      "\u001b[1;31mAttributeError\u001b[0m                            Traceback (most recent call last)",
      "\u001b[1;32md:\\CSB301-Homework\\PythonReview\\A5-Quantifiers.ipynb Cell 7\u001b[0m line \u001b[0;36m2\n\u001b[0;32m     <a href='vscode-notebook-cell:/d%3A/CSB301-Homework/PythonReview/A5-Quantifiers.ipynb#W6sZmlsZQ%3D%3D?line=17'>18</a>\u001b[0m         result \u001b[39m=\u001b[39m \u001b[39mall\u001b[39m(predicate(x)\u001b[39m.\u001b[39mcount(\u001b[39mTrue\u001b[39;00m) \u001b[39m==\u001b[39m \u001b[39m1\u001b[39m \u001b[39mfor\u001b[39;00m x \u001b[39min\u001b[39;00m domain)\n\u001b[0;32m     <a href='vscode-notebook-cell:/d%3A/CSB301-Homework/PythonReview/A5-Quantifiers.ipynb#W6sZmlsZQ%3D%3D?line=20'>21</a>\u001b[0m     uniqueness_quantifier(is_prime, domain)\n\u001b[1;32m---> <a href='vscode-notebook-cell:/d%3A/CSB301-Homework/PythonReview/A5-Quantifiers.ipynb#W6sZmlsZQ%3D%3D?line=23'>24</a>\u001b[0m demonstrate_uniqueness_quantifier()\n",
      "\u001b[1;32md:\\CSB301-Homework\\PythonReview\\A5-Quantifiers.ipynb Cell 7\u001b[0m line \u001b[0;36m2\n\u001b[0;32m     <a href='vscode-notebook-cell:/d%3A/CSB301-Homework/PythonReview/A5-Quantifiers.ipynb#W6sZmlsZQ%3D%3D?line=16'>17</a>\u001b[0m \u001b[39mdef\u001b[39;00m \u001b[39muniqueness_quantifier\u001b[39m(predicate, domain):\n\u001b[0;32m     <a href='vscode-notebook-cell:/d%3A/CSB301-Homework/PythonReview/A5-Quantifiers.ipynb#W6sZmlsZQ%3D%3D?line=17'>18</a>\u001b[0m     result \u001b[39m=\u001b[39m \u001b[39mall\u001b[39m(predicate(x)\u001b[39m.\u001b[39mcount(\u001b[39mTrue\u001b[39;00m) \u001b[39m==\u001b[39m \u001b[39m1\u001b[39m \u001b[39mfor\u001b[39;00m x \u001b[39min\u001b[39;00m domain)\n\u001b[1;32m---> <a href='vscode-notebook-cell:/d%3A/CSB301-Homework/PythonReview/A5-Quantifiers.ipynb#W6sZmlsZQ%3D%3D?line=20'>21</a>\u001b[0m uniqueness_quantifier(is_prime, domain)\n",
      "\u001b[1;32md:\\CSB301-Homework\\PythonReview\\A5-Quantifiers.ipynb Cell 7\u001b[0m line \u001b[0;36m1\n\u001b[0;32m     <a href='vscode-notebook-cell:/d%3A/CSB301-Homework/PythonReview/A5-Quantifiers.ipynb#W6sZmlsZQ%3D%3D?line=16'>17</a>\u001b[0m \u001b[39mdef\u001b[39;00m \u001b[39muniqueness_quantifier\u001b[39m(predicate, domain):\n\u001b[1;32m---> <a href='vscode-notebook-cell:/d%3A/CSB301-Homework/PythonReview/A5-Quantifiers.ipynb#W6sZmlsZQ%3D%3D?line=17'>18</a>\u001b[0m     result \u001b[39m=\u001b[39m \u001b[39mall\u001b[39;49m(predicate(x)\u001b[39m.\u001b[39;49mcount(\u001b[39mTrue\u001b[39;49;00m) \u001b[39m==\u001b[39;49m \u001b[39m1\u001b[39;49m \u001b[39mfor\u001b[39;49;00m x \u001b[39min\u001b[39;49;00m domain)\n",
      "\u001b[1;32md:\\CSB301-Homework\\PythonReview\\A5-Quantifiers.ipynb Cell 7\u001b[0m line \u001b[0;36m1\n\u001b[0;32m     <a href='vscode-notebook-cell:/d%3A/CSB301-Homework/PythonReview/A5-Quantifiers.ipynb#W6sZmlsZQ%3D%3D?line=16'>17</a>\u001b[0m \u001b[39mdef\u001b[39;00m \u001b[39muniqueness_quantifier\u001b[39m(predicate, domain):\n\u001b[1;32m---> <a href='vscode-notebook-cell:/d%3A/CSB301-Homework/PythonReview/A5-Quantifiers.ipynb#W6sZmlsZQ%3D%3D?line=17'>18</a>\u001b[0m     result \u001b[39m=\u001b[39m \u001b[39mall\u001b[39m(predicate(x)\u001b[39m.\u001b[39;49mcount(\u001b[39mTrue\u001b[39;00m) \u001b[39m==\u001b[39m \u001b[39m1\u001b[39m \u001b[39mfor\u001b[39;00m x \u001b[39min\u001b[39;00m domain)\n",
      "\u001b[1;31mAttributeError\u001b[0m: 'bool' object has no attribute 'count'"
     ]
    }
   ],
   "source": [
    "# Demonstrate the uniqueness quantifier\n",
    "domain = [1, 2, 3, 4, 5, 6, 7, 8, 9, 10, 11]\n",
    "def is_prime(x):\n",
    "    \"\"\"Predicate: Checks if x is a prime number.\"\"\"\n",
    "    # Numbers must bigger than 1 to be prime\n",
    "    if x <= 1:\n",
    "        return False  \n",
    "    # If x is divisible by any number between 2 and sqrt(x), it's not prime\n",
    "    for i in range(2, int(n**0.5) + 1):\n",
    "        if x % i == 0:\n",
    "            return False \n",
    "    return True \n",
    "    \n",
    "\n",
    "def demonstrate_uniqueness_quantifier():\n",
    "    \"\"\"Demonstrates the uniqueness quantifier (∃!) using Python.\"\"\"\n",
    "    def uniqueness_quantifier(predicate, domain):\n",
    "        result = all(predicate(x).count(True) == 1 for x in domain)\n",
    "\n",
    "\n",
    "    uniqueness_quantifier(is_prime, domain)\n",
    "    \n",
    "\n",
    "demonstrate_uniqueness_quantifier()"
   ]
  },
  {
   "cell_type": "markdown",
   "metadata": {},
   "source": [
    "### 3 Nested Quantifiers"
   ]
  },
  {
   "cell_type": "markdown",
   "metadata": {},
   "source": [
    "Demonstrate nested quantifiers. Create functions:\n",
    "1. Predicate 1: tests if a number is true\n",
    "2. Predicate 2: tests if a number is positive\n",
    "\n",
    "Create two domains:    \n",
    "x: integers 1 to 10 inclusive    \n",
    "y: integers 1 to 10 inclusive   \n",
    "\n",
    "Demonstrate that \"(∃x ∃y): There exists an even x and a positive y such that x + y = 10\"    \n",
    "Be sure to print the Predicates and quantifier being tested along with the True or False values.\n"
   ]
  },
  {
   "cell_type": "code",
   "execution_count": 34,
   "metadata": {},
   "outputs": [
    {
     "name": "stdout",
     "output_type": "stream",
     "text": [
      "Check if there at exists an even x and a positive y such that x + y = 10\n",
      "Predicates:\n",
      "P(x): x is even\n",
      "Q(y): y is positive\n",
      "R(x, y, 10): x + y = 10\n",
      "True\n"
     ]
    }
   ],
   "source": [
    "# Demonstrate Nested Quantifiers with an example\n",
    "\n",
    "def is_even(x):\n",
    "    \"\"\"Predicate: Checks if x is even.\"\"\"\n",
    "    if(x % 2 == 0):\n",
    "        return True\n",
    "    \n",
    "\n",
    "def is_positive(y):\n",
    "    \"\"\"Predicate: Checks if y is positive.\"\"\"\n",
    "    if(y > 0):\n",
    "        return True\n",
    "    \n",
    "def is_equal10(x , y):\n",
    "    \"\"\"Predicate: Checks if the sum of x and y is equal to 10.\"\"\"\n",
    "    if(x + y == 10):\n",
    "        return True\n",
    "    \n",
    "# domain of x and y is inclusive from 1-11\n",
    "domain_x = [1, 2, 3, 4, 5, 6, 7, 8, 9, 10, 11]\n",
    "domain_y = [1, 2, 3, 4, 5, 6, 7, 8, 9, 10, 11]\n",
    "\n",
    "def demonstrate_nested_quantifiers():\n",
    "    \"\"\"Demonstrates nested quantifiers in Python.\"\"\"\n",
    "    # if there is element x in domain_ x is even and there is positive element y in domain_y that make up 10 then return True\n",
    "    # P(X) is number that even, Q(y) is positive number, R(x, y, 10) is x + y = 10\n",
    "    #  \n",
    "    result = any(is_even(x) and is_positive(y) and is_equal10(x, y) for x in domain_x for y in domain_y)\n",
    "    print(\"Check if there at exists an even x and a positive y such that x + y = 10\")\n",
    "    print(\"Predicates:\")\n",
    "    print(\"P(x): x is even\")\n",
    "    print(\"Q(y): y is positive\")\n",
    "    print(\"R(x, y, 10): x + y = 10\")\n",
    "    print(result)\n",
    "demonstrate_nested_quantifiers()"
   ]
  },
  {
   "cell_type": "code",
   "execution_count": null,
   "metadata": {},
   "outputs": [],
   "source": []
  }
 ],
 "metadata": {
  "kernelspec": {
   "display_name": ".venv",
   "language": "python",
   "name": "python3"
  },
  "language_info": {
   "codemirror_mode": {
    "name": "ipython",
    "version": 3
   },
   "file_extension": ".py",
   "mimetype": "text/x-python",
   "name": "python",
   "nbconvert_exporter": "python",
   "pygments_lexer": "ipython3",
   "version": "3.10.2"
  },
  "orig_nbformat": 4
 },
 "nbformat": 4,
 "nbformat_minor": 2
}
